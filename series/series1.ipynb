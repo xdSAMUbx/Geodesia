{
 "cells": [
  {
   "cell_type": "markdown",
   "id": "44e0438b",
   "metadata": {},
   "source": [
    "# Series"
   ]
  },
  {
   "cell_type": "markdown",
   "id": "17b0ef0d",
   "metadata": {},
   "source": [
    "# Seno expresado en Series"
   ]
  },
  {
   "cell_type": "code",
   "execution_count": null,
   "id": "a45425e4",
   "metadata": {},
   "outputs": [],
   "source": [
    "angulo = float(input(\"Ingrese el angulo con el cual quiere evaluar la serie: \"))\n",
    "\n",
    "while n < cont:\n",
    "    n += 1"
   ]
  }
 ],
 "metadata": {
  "language_info": {
   "name": "python"
  }
 },
 "nbformat": 4,
 "nbformat_minor": 5
}
