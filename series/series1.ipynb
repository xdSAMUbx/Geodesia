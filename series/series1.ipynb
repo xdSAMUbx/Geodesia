{
 "cells": [
  {
   "cell_type": "markdown",
   "id": "44e0438b",
   "metadata": {},
   "source": [
    "# Series"
   ]
  },
  {
   "cell_type": "code",
   "execution_count": 17,
   "id": "e99f3eb3",
   "metadata": {},
   "outputs": [],
   "source": [
    "from scipy import special\n",
    "import numpy as np"
   ]
  },
  {
   "cell_type": "markdown",
   "id": "17b0ef0d",
   "metadata": {},
   "source": [
    "# Seno expresado en Series"
   ]
  },
  {
   "cell_type": "code",
   "execution_count": 49,
   "id": "a45425e4",
   "metadata": {},
   "outputs": [
    {
     "name": "stdout",
     "output_type": "stream",
     "text": [
      "-0.8191520442889918\n"
     ]
    }
   ],
   "source": [
    "angulo = float(input(\"Ingrese el angulo con el cual quiere evaluar la serie: \"))\n",
    "angulo = (np.pi/180)*angulo\n",
    "n = 0\n",
    "k = 0\n",
    "cont = 100\n",
    "while n < cont:\n",
    "    result = ((-1)**n)*(((angulo)**((2*n)+1))/special.factorial((2*n)+1))\n",
    "    k = k + result\n",
    "    n += 1\n",
    "print(k)"
   ]
  },
  {
   "cell_type": "markdown",
   "id": "35891440",
   "metadata": {},
   "source": [
    "# Serie del Coseno"
   ]
  },
  {
   "cell_type": "code",
   "execution_count": 51,
   "id": "7802e6ea",
   "metadata": {},
   "outputs": [
    {
     "name": "stdout",
     "output_type": "stream",
     "text": [
      "0.034899496702501\n"
     ]
    }
   ],
   "source": [
    "angulo = float(input(\"Ingrese el angulo con el cual quiere evaluar la serie: \"))\n",
    "angulo = (np.pi/180)*angulo\n",
    "n = 0\n",
    "k = 0\n",
    "cont = 100\n",
    "while n < cont:\n",
    "    result = ((-1)**n)*((angulo)**(2*n))/special.factorial(2*n) \n",
    "    k = k + result \n",
    "    n += 1\n",
    "print(k)"
   ]
  }
 ],
 "metadata": {
  "kernelspec": {
   "display_name": "Python 3",
   "language": "python",
   "name": "python3"
  },
  "language_info": {
   "codemirror_mode": {
    "name": "ipython",
    "version": 3
   },
   "file_extension": ".py",
   "mimetype": "text/x-python",
   "name": "python",
   "nbconvert_exporter": "python",
   "pygments_lexer": "ipython3",
   "version": "3.9.13"
  }
 },
 "nbformat": 4,
 "nbformat_minor": 5
}
