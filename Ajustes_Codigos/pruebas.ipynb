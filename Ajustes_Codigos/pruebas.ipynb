{
 "cells": [
  {
   "cell_type": "code",
   "execution_count": 2,
   "id": "aafbf687",
   "metadata": {},
   "outputs": [],
   "source": [
    "from sympy import *\n",
    "from scipy import linalg\n",
    "import matplotlib.pyplot as plt\n",
    "import numpy as np"
   ]
  },
  {
   "cell_type": "code",
   "execution_count": 3,
   "id": "95ed53c8",
   "metadata": {},
   "outputs": [],
   "source": [
    "# Definiendo un simbolo\n",
    "x = symbols(\"x\")"
   ]
  },
  {
   "cell_type": "code",
   "execution_count": 4,
   "id": "5010ee85",
   "metadata": {},
   "outputs": [
    {
     "data": {
      "text/latex": [
       "$\\displaystyle x^{2}$"
      ],
      "text/plain": [
       "x**2"
      ]
     },
     "execution_count": 4,
     "metadata": {},
     "output_type": "execute_result"
    }
   ],
   "source": [
    "# Imprime la variable\n",
    "x**2"
   ]
  },
  {
   "cell_type": "code",
   "execution_count": 5,
   "id": "1b6f4ce8",
   "metadata": {},
   "outputs": [
    {
     "data": {
      "text/latex": [
       "$\\displaystyle \\sin{\\left(x \\right)}$"
      ],
      "text/plain": [
       "sin(x)"
      ]
     },
     "execution_count": 5,
     "metadata": {},
     "output_type": "execute_result"
    }
   ],
   "source": [
    "# Mientras no se evalue la variable será impresa normalmente\n",
    "sin(x)"
   ]
  },
  {
   "cell_type": "code",
   "execution_count": 6,
   "id": "1ead33ca",
   "metadata": {},
   "outputs": [
    {
     "data": {
      "text/latex": [
       "$\\displaystyle x^{2} + 4 x + 3$"
      ],
      "text/plain": [
       "x**2 + 4*x + 3"
      ]
     },
     "execution_count": 6,
     "metadata": {},
     "output_type": "execute_result"
    }
   ],
   "source": [
    "# Se puede expresar de otras formas\n",
    "y = x**2 + 4*x + 3\n",
    "y"
   ]
  },
  {
   "cell_type": "code",
   "execution_count": 7,
   "id": "379183d1",
   "metadata": {},
   "outputs": [
    {
     "data": {
      "text/latex": [
       "$\\displaystyle \\left(x^{2} + 4 x + 3\\right)^{2}$"
      ],
      "text/plain": [
       "(x**2 + 4*x + 3)**2"
      ]
     },
     "execution_count": 7,
     "metadata": {},
     "output_type": "execute_result"
    }
   ],
   "source": [
    "z = y ** 2\n",
    "z"
   ]
  },
  {
   "cell_type": "code",
   "execution_count": 8,
   "id": "2857e6dd",
   "metadata": {},
   "outputs": [
    {
     "data": {
      "text/latex": [
       "$\\displaystyle \\left(x + 1\\right)^{2} \\left(x + 3\\right)^{2}$"
      ],
      "text/plain": [
       "(x + 1)**2*(x + 3)**2"
      ]
     },
     "execution_count": 8,
     "metadata": {},
     "output_type": "execute_result"
    }
   ],
   "source": [
    "# Factoriza el polinomio\n",
    "z.factor()"
   ]
  },
  {
   "cell_type": "code",
   "execution_count": 9,
   "id": "818f4882",
   "metadata": {},
   "outputs": [
    {
     "data": {
      "text/latex": [
       "$\\displaystyle x^{4} + 8 x^{3} + 22 x^{2} + 24 x + 9$"
      ],
      "text/plain": [
       "x**4 + 8*x**3 + 22*x**2 + 24*x + 9"
      ]
     },
     "execution_count": 9,
     "metadata": {},
     "output_type": "execute_result"
    }
   ],
   "source": [
    "# Desgloza el polinomio\n",
    "z.expand()"
   ]
  },
  {
   "cell_type": "code",
   "execution_count": 10,
   "id": "2ef2295b",
   "metadata": {},
   "outputs": [
    {
     "data": {
      "text/plain": [
       "[-3, -1]"
      ]
     },
     "execution_count": 10,
     "metadata": {},
     "output_type": "execute_result"
    }
   ],
   "source": [
    "# Para mirar que funciones se pueden aplicar a las variables unicamente se coloca z.\n",
    "# Luego para solucionar una función, se utiliza la siguiente notación: \n",
    "solve(z,x) # Encuentra el valor donde f(x) = 0\n"
   ]
  },
  {
   "cell_type": "code",
   "execution_count": 11,
   "id": "db1db3df",
   "metadata": {},
   "outputs": [
    {
     "data": {
      "text/plain": [
       "[0, pi]"
      ]
     },
     "execution_count": 11,
     "metadata": {},
     "output_type": "execute_result"
    }
   ],
   "source": [
    "solve(sin(x), x) #Encuetnra los valores para los cuales sin(x) = 0"
   ]
  },
  {
   "cell_type": "markdown",
   "id": "31313666",
   "metadata": {},
   "source": [
    "### Buena practica:\n",
    "En ocasiones es buena idea definir la variable, diciendole al programa si es real o no de esta manera el programa puede realizar las soluciones de una manera más optima y rapida, acontinuación se muestra un ejemplo donde no esta definida y otro donde sí:"
   ]
  },
  {
   "cell_type": "code",
   "execution_count": 12,
   "id": "d503aef6",
   "metadata": {},
   "outputs": [
    {
     "data": {
      "text/plain": [
       "[-I, I]"
      ]
     },
     "execution_count": 12,
     "metadata": {},
     "output_type": "execute_result"
    }
   ],
   "source": [
    "# Al no tener definido la x, asume que se puede solucionar a partir de numeros imaginarios\n",
    "x = symbols(\"x\")\n",
    "solve(x**2+1,x)"
   ]
  },
  {
   "cell_type": "code",
   "execution_count": 13,
   "id": "12e01575",
   "metadata": {},
   "outputs": [
    {
     "data": {
      "text/plain": [
       "[]"
      ]
     },
     "execution_count": 13,
     "metadata": {},
     "output_type": "execute_result"
    }
   ],
   "source": [
    "# Al indicarle que solo son números reales entonces no dará soluciones ya que no puede\n",
    "x = symbols(\"x\", real=True)\n",
    "solve(x**2+1,x)"
   ]
  },
  {
   "cell_type": "markdown",
   "id": "c162aca9",
   "metadata": {},
   "source": [
    "Se pueden definir multiples variables al mismo tiempo"
   ]
  },
  {
   "cell_type": "code",
   "execution_count": 14,
   "id": "c8d5400c",
   "metadata": {},
   "outputs": [
    {
     "data": {
      "text/latex": [
       "$\\displaystyle x^{2} + y \\sin{\\left(z \\right)}$"
      ],
      "text/plain": [
       "x**2 + y*sin(z)"
      ]
     },
     "execution_count": 14,
     "metadata": {},
     "output_type": "execute_result"
    }
   ],
   "source": [
    "x, y, z = symbols('x y z')\n",
    "F = x**2+sin(z)*y\n",
    "F"
   ]
  },
  {
   "cell_type": "code",
   "execution_count": 15,
   "id": "b27fe2ab",
   "metadata": {},
   "outputs": [
    {
     "data": {
      "text/plain": [
       "[-sqrt(-y*sin(z)), sqrt(-y*sin(z))]"
      ]
     },
     "execution_count": 15,
     "metadata": {},
     "output_type": "execute_result"
    }
   ],
   "source": [
    "# Solucionando para x\n",
    "x_sol = solve(F, x)\n",
    "x_sol"
   ]
  },
  {
   "cell_type": "code",
   "execution_count": 16,
   "id": "1198893c",
   "metadata": {},
   "outputs": [
    {
     "data": {
      "text/plain": [
       "[-x**2/sin(z)]"
      ]
     },
     "execution_count": 16,
     "metadata": {},
     "output_type": "execute_result"
    }
   ],
   "source": [
    "# Solucionando para y\n",
    "ySol = solve(F, y)\n",
    "ySol"
   ]
  },
  {
   "cell_type": "code",
   "execution_count": 17,
   "id": "8f2d6bbd",
   "metadata": {},
   "outputs": [
    {
     "data": {
      "text/plain": [
       "[asin(x**2/y) + pi, -asin(x**2/y)]"
      ]
     },
     "execution_count": 17,
     "metadata": {},
     "output_type": "execute_result"
    }
   ],
   "source": [
    "# Solucionando para z\n",
    "zSol = solve(F,z)\n",
    "zSol"
   ]
  },
  {
   "cell_type": "markdown",
   "id": "a9965748",
   "metadata": {},
   "source": [
    "Se puede conectar una expresión simbolica a una función numerica para mostrarse en un computador (matplotlib)"
   ]
  },
  {
   "cell_type": "code",
   "execution_count": 18,
   "id": "dc38b041",
   "metadata": {},
   "outputs": [
    {
     "data": {
      "text/latex": [
       "$\\displaystyle \\operatorname{asin}{\\left(\\frac{x^{2}}{y} \\right)} + \\pi$"
      ],
      "text/plain": [
       "asin(x**2/y) + pi"
      ]
     },
     "execution_count": 18,
     "metadata": {},
     "output_type": "execute_result"
    }
   ],
   "source": [
    "# Para convertir en una función numerica se usa lambdify, como se muestra acontinuacion:\n",
    "expr = zSol[0] \n",
    "expr"
   ]
  },
  {
   "cell_type": "code",
   "execution_count": 19,
   "id": "ba207942",
   "metadata": {},
   "outputs": [
    {
     "data": {
      "text/plain": [
       "np.float64(3.6651914291880923)"
      ]
     },
     "execution_count": 19,
     "metadata": {},
     "output_type": "execute_result"
    }
   ],
   "source": [
    "exprF = lambdify([x,y], expr) #lambdify([simbolos que hacen parte de la expresión simbolica], expresión simbolica)\n",
    "exprF(1,2) #Toma los valores de x, y y evalua la función"
   ]
  },
  {
   "cell_type": "code",
   "execution_count": 20,
   "id": "8b6a149d",
   "metadata": {},
   "outputs": [
    {
     "data": {
      "text/plain": [
       "[<matplotlib.lines.Line2D at 0x27733b58fd0>]"
      ]
     },
     "execution_count": 20,
     "metadata": {},
     "output_type": "execute_result"
    },
    {
     "data": {
      "image/png": "[encoded data removed]",
      "text/plain": [
       "<Figure size 640x480 with 1 Axes>"
      ]
     },
     "metadata": {},
     "output_type": "display_data"
    }
   ],
   "source": [
    "xNum = np.linspace(0,1,100)\n",
    "yNum = 2\n",
    "plt.plot(xNum, exprF(xNum,yNum))"
   ]
  },
  {
   "cell_type": "code",
   "execution_count": 22,
   "id": "e7ba323f",
   "metadata": {},
   "outputs": [
    {
     "data": {
      "text/latex": [
       "$\\displaystyle x^{2} + y \\sin{\\left(z \\right)}$"
      ],
      "text/plain": [
       "x**2 + y*sin(z)"
      ]
     },
     "execution_count": 22,
     "metadata": {},
     "output_type": "execute_result"
    }
   ],
   "source": [
    "F"
   ]
  },
  {
   "cell_type": "code",
   "execution_count": 25,
   "id": "024817d0",
   "metadata": {},
   "outputs": [
    {
     "data": {
      "text/latex": [
       "$\\displaystyle x^{2} + \\sin{\\left(\\sin{\\left(y \\right)} \\right)} \\cos{\\left(x \\right)}$"
      ],
      "text/plain": [
       "x**2 + sin(sin(y))*cos(x)"
      ]
     },
     "execution_count": 25,
     "metadata": {},
     "output_type": "execute_result"
    }
   ],
   "source": [
    "# Se pueden sustituir valores\n",
    "F.subs([(y,cos(x)),(z,sin(y))])"
   ]
  },
  {
   "cell_type": "code",
   "execution_count": 32,
   "id": "db70ad9e",
   "metadata": {},
   "outputs": [
    {
     "data": {
      "text/latex": [
       "$\\displaystyle \\frac{a}{\\sqrt{- e^{2} \\sin^{2}{\\left(fi \\right)} + 1}}$"
      ],
      "text/plain": [
       "a/sqrt(-e**2*sin(fi)**2 + 1)"
      ]
     },
     "execution_count": 32,
     "metadata": {},
     "output_type": "execute_result"
    }
   ],
   "source": [
    "# Calculando N\n",
    "a, e, fi = symbols(\"a e fi\", real=True)\n",
    "N = a/sqrt(1-e**2*(sin(fi))**2)\n",
    "N"
   ]
  },
  {
   "cell_type": "code",
   "execution_count": 38,
   "id": "71beef6b",
   "metadata": {},
   "outputs": [
    {
     "data": {
      "text/latex": [
       "$\\displaystyle \\frac{1}{2}$"
      ],
      "text/plain": [
       "1/2"
      ]
     },
     "execution_count": 38,
     "metadata": {},
     "output_type": "execute_result"
    }
   ],
   "source": [
    "# Para expresar fracciones\n",
    "Rational (1,2) # Solo sirve con números"
   ]
  },
  {
   "cell_type": "markdown",
   "id": "9f1f0aed",
   "metadata": {},
   "source": [
    "El uso de la función simpyfy es para simplificar las expresiones que se quieren mostrar"
   ]
  },
  {
   "cell_type": "markdown",
   "id": "38c9a689",
   "metadata": {},
   "source": [
    "# Calculo 1 en Python"
   ]
  },
  {
   "cell_type": "markdown",
   "id": "c7804777",
   "metadata": {},
   "source": [
    "### Limites"
   ]
  },
  {
   "cell_type": "code",
   "execution_count": 41,
   "id": "d31fb776",
   "metadata": {},
   "outputs": [
    {
     "data": {
      "text/latex": [
       "$\\displaystyle \\log{\\left(\\sin{\\left(x \\right)} \\right)} + \\sin{\\left(x \\right)}$"
      ],
      "text/plain": [
       "log(sin(x)) + sin(x)"
      ]
     },
     "execution_count": 41,
     "metadata": {},
     "output_type": "execute_result"
    }
   ],
   "source": [
    "x = symbols(\"x\")\n",
    "y = sin(x) + log(sin(x))\n",
    "y"
   ]
  },
  {
   "cell_type": "code",
   "execution_count": 45,
   "id": "1e65e26e",
   "metadata": {},
   "outputs": [
    {
     "data": {
      "text/latex": [
       "$\\displaystyle 1$"
      ],
      "text/plain": [
       "1"
      ]
     },
     "execution_count": 45,
     "metadata": {},
     "output_type": "execute_result"
    }
   ],
   "source": [
    "limit(y, x, pi/2)"
   ]
  },
  {
   "cell_type": "markdown",
   "id": "774b5aef",
   "metadata": {},
   "source": [
    "# Derivadas"
   ]
  },
  {
   "cell_type": "markdown",
   "id": "b624c520",
   "metadata": {},
   "source": [
    "En este caso, las derivadas se pueden aplicar a una sola variable, es la derivada de primer orden"
   ]
  },
  {
   "cell_type": "code",
   "execution_count": 47,
   "id": "2ff47c00",
   "metadata": {},
   "outputs": [
    {
     "data": {
      "text/latex": [
       "$\\displaystyle \\cos{\\left(x \\right)} + \\frac{\\cos{\\left(x \\right)}}{\\sin{\\left(x \\right)}}$"
      ],
      "text/plain": [
       "cos(x) + cos(x)/sin(x)"
      ]
     },
     "execution_count": 47,
     "metadata": {},
     "output_type": "execute_result"
    }
   ],
   "source": [
    "# Realiza la derivada con respecto a un valor\n",
    "diff(y,x)"
   ]
  },
  {
   "cell_type": "code",
   "execution_count": 54,
   "id": "9c75a500",
   "metadata": {},
   "outputs": [
    {
     "data": {
      "text/latex": [
       "$\\displaystyle \\tan{\\left(\\frac{- x_{i} + x_{j}}{- y_{i} + y_{j}} \\right)}$"
      ],
      "text/plain": [
       "tan((-x_i + x_j)/(-y_i + y_j))"
      ]
     },
     "execution_count": 54,
     "metadata": {},
     "output_type": "execute_result"
    }
   ],
   "source": [
    "x_i,x_j,y_i,y_j = symbols(\"x_i x_j y_i y_j\")\n",
    "p = tan((x_j-x_i)/(y_j-y_i))\n",
    "p"
   ]
  },
  {
   "cell_type": "code",
   "execution_count": 60,
   "id": "90c6fbb8",
   "metadata": {},
   "outputs": [
    {
     "data": {
      "text/latex": [
       "$\\displaystyle \\frac{x_{i} - x_{j}}{\\left(y_{i} - y_{j}\\right)^{2} \\cos^{2}{\\left(\\frac{x_{i} - x_{j}}{y_{i} - y_{j}} \\right)}}$"
      ],
      "text/plain": [
       "(x_i - x_j)/((y_i - y_j)**2*cos((x_i - x_j)/(y_i - y_j))**2)"
      ]
     },
     "execution_count": 60,
     "metadata": {},
     "output_type": "execute_result"
    }
   ],
   "source": [
    "diff(p,y_j).simplify()"
   ]
  },
  {
   "cell_type": "code",
   "execution_count": 64,
   "id": "7bdb0c7b",
   "metadata": {},
   "outputs": [
    {
     "data": {
      "text/latex": [
       "$\\displaystyle f{\\left(x + g{\\left(x \\right)} \\right)}$"
      ],
      "text/plain": [
       "f(x + g(x))"
      ]
     },
     "execution_count": 64,
     "metadata": {},
     "output_type": "execute_result"
    }
   ],
   "source": [
    "# Define funciones\n",
    "f, g = symbols(\"f g\", cls = Function)\n",
    "g = g(x)\n",
    "f = f(x+g)\n",
    "f"
   ]
  },
  {
   "cell_type": "code",
   "execution_count": 66,
   "id": "7645cc13",
   "metadata": {},
   "outputs": [
    {
     "data": {
      "text/latex": [
       "$\\displaystyle \\left(\\frac{d}{d x} g{\\left(x \\right)} + 1\\right) \\left. \\frac{d}{d \\xi_{1}} f{\\left(\\xi_{1} \\right)} \\right|_{\\substack{ \\xi_{1}=x + g{\\left(x \\right)} }}$"
      ],
      "text/plain": [
       "(Derivative(g(x), x) + 1)*Subs(Derivative(f(_xi_1), _xi_1), _xi_1, x + g(x))"
      ]
     },
     "execution_count": 66,
     "metadata": {},
     "output_type": "execute_result"
    }
   ],
   "source": [
    "dfdx = diff(f,x)\n",
    "dfdx"
   ]
  }
 ],
 "metadata": {
  "kernelspec": {
   "display_name": "Python 3",
   "language": "python",
   "name": "python3"
  },
  "language_info": {
   "codemirror_mode": {
    "name": "ipython",
    "version": 3
   },
   "file_extension": ".py",
   "mimetype": "text/x-python",
   "name": "python",
   "nbconvert_exporter": "python",
   "pygments_lexer": "ipython3",
   "version": "3.9.13"
  }
 },
 "nbformat": 4,
 "nbformat_minor": 5
}
