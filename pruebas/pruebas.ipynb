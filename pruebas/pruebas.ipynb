{
 "cells": [
  {
   "cell_type": "code",
   "execution_count": 6,
   "metadata": {},
   "outputs": [],
   "source": [
    "import numpy as np\n",
    "import sympy as sp\n",
    "import math as mh"
   ]
  },
  {
   "cell_type": "code",
   "execution_count": 5,
   "metadata": {},
   "outputs": [],
   "source": [
    "#Solicitando la función escalar ó vectorial\n",
    "f = input(\"Ingrese la función escalar o vectorial segun corresponda en terminos de r,teta,lambda: \")\n",
    "r, teta, lamda = sp.symbols('r,θ,λ')\n",
    "h_r = 1\n",
    "h_teta = r\n",
    "h_lambda = r*mh.sin(mh.radians(teta))\n",
    "\n",
    "grad = [sp.diff(f,var) for var in (r,teta,lamda)]\n",
    "print(f'El Gradiente de {f} es: {grad}')"
   ]
  }
 ],
 "metadata": {
  "kernelspec": {
   "display_name": "Python 3",
   "language": "python",
   "name": "python3"
  },
  "language_info": {
   "codemirror_mode": {
    "name": "ipython",
    "version": 3
   },
   "file_extension": ".py",
   "mimetype": "text/x-python",
   "name": "python",
   "nbconvert_exporter": "python",
   "pygments_lexer": "ipython3",
   "version": "3.11.6"
  }
 },
 "nbformat": 4,
 "nbformat_minor": 2
}
